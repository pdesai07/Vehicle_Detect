{
 "cells": [
  {
   "cell_type": "code",
   "execution_count": 22,
   "id": "f9e9e687-144e-4e1a-bd69-d9ca2d55b76a",
   "metadata": {},
   "outputs": [],
   "source": [
    "import os\n",
    "import cv2\n",
    "from PIL import Image"
   ]
  },
  {
   "cell_type": "code",
   "execution_count": 3,
   "id": "08cf7288-42d5-4a8c-82cc-8841e321de5f",
   "metadata": {},
   "outputs": [],
   "source": [
    "directory_path = '/home/user/priyansh/yolo/captured_5_sec/'"
   ]
  },
  {
   "cell_type": "code",
   "execution_count": 4,
   "id": "d93186fb-d382-4a43-9cf8-fed915ee3dd5",
   "metadata": {},
   "outputs": [
    {
     "name": "stderr",
     "output_type": "stream",
     "text": [
      "YOLOv8l summary (fused): 268 layers, 43668288 parameters, 0 gradients, 165.2 GFLOPs\n"
     ]
    }
   ],
   "source": [
    "from ultralytics import YOLO\n",
    "\n",
    "MODEL = \"yolov8l.pt\"\n",
    "\n",
    "model = YOLO(MODEL)\n",
    "model.fuse()"
   ]
  },
  {
   "cell_type": "code",
   "execution_count": null,
   "id": "fda3d752-ea44-4936-be70-0efa19fde677",
   "metadata": {},
   "outputs": [],
   "source": []
  },
  {
   "cell_type": "code",
   "execution_count": 5,
   "id": "48ba8b50-0a11-443a-9416-d06b1c06f961",
   "metadata": {},
   "outputs": [],
   "source": [
    "# dict maping class_id to class_name\n",
    "CLASS_NAMES_DICT = model.model.names\n",
    "# class_ids of interest - bicycle, car, motorcycle, bus and truck\n",
    "CLASS_ID = [ 2, 3, 4, 6, 8]"
   ]
  },
  {
   "cell_type": "code",
   "execution_count": 18,
   "id": "9e776a97-d754-451f-91d8-f12ff6bde898",
   "metadata": {},
   "outputs": [],
   "source": [
    "cars = \"/home/user/priyansh/yolo/car\"\n",
    "os.makedirs(cars,exist_ok = True)\n",
    "bikes = \"/home/user/priyansh/yolo/bike\"\n",
    "os.makedirs(bikes,exist_ok = True)\n",
    "trucks = \"/home/user/priyansh/yolo/truck\"\n",
    "os.makedirs(trucks,exist_ok = True)\n",
    "buses = \"/home/user/priyansh/yolo/bus\"\n",
    "os.makedirs(buses,exist_ok = True)"
   ]
  },
  {
   "cell_type": "code",
   "execution_count": 25,
   "id": "23adc0d7-4602-488c-baa2-6a31424ec359",
   "metadata": {},
   "outputs": [
    {
     "name": "stderr",
     "output_type": "stream",
     "text": [
      "\n",
      "image 1/1 /home/user/priyansh/yolo/captured_5_sec/frame_1510.jpg: 384x640 1 car, 20.1ms\n",
      "Speed: 12.3ms preprocess, 20.1ms inference, 1.1ms postprocess per image at shape (1, 3, 384, 640)\n",
      "\n",
      "image 1/1 /home/user/priyansh/yolo/captured_5_sec/frame_190.jpg: 384x640 1 car, 1 truck, 20.7ms\n",
      "Speed: 1.7ms preprocess, 20.7ms inference, 1.1ms postprocess per image at shape (1, 3, 384, 640)\n",
      "\n",
      "image 1/1 /home/user/priyansh/yolo/captured_5_sec/frame_590.jpg: 384x640 1 person, 2 cars, 1 motorcycle, 21.6ms\n",
      "Speed: 1.7ms preprocess, 21.6ms inference, 1.1ms postprocess per image at shape (1, 3, 384, 640)\n",
      "\n"
     ]
    },
    {
     "name": "stdout",
     "output_type": "stream",
     "text": [
      "1\n",
      "2\n",
      "4\n"
     ]
    },
    {
     "name": "stderr",
     "output_type": "stream",
     "text": [
      "image 1/1 /home/user/priyansh/yolo/captured_5_sec/frame_1030.jpg: 384x640 1 motorcycle, 19.8ms\n",
      "Speed: 1.5ms preprocess, 19.8ms inference, 1.0ms postprocess per image at shape (1, 3, 384, 640)\n",
      "\n",
      "image 1/1 /home/user/priyansh/yolo/captured_5_sec/frame_1210.jpg: 384x640 1 car, 1 truck, 20.6ms\n",
      "Speed: 1.6ms preprocess, 20.6ms inference, 1.0ms postprocess per image at shape (1, 3, 384, 640)\n",
      "\n",
      "image 1/1 /home/user/priyansh/yolo/captured_5_sec/frame_1010.jpg: 384x640 2 persons, 1 motorcycle, 19.3ms\n",
      "Speed: 1.5ms preprocess, 19.3ms inference, 1.0ms postprocess per image at shape (1, 3, 384, 640)\n",
      "\n"
     ]
    },
    {
     "name": "stdout",
     "output_type": "stream",
     "text": [
      "1\n",
      "2\n",
      "3\n"
     ]
    },
    {
     "name": "stderr",
     "output_type": "stream",
     "text": [
      "image 1/1 /home/user/priyansh/yolo/captured_5_sec/frame_530.jpg: 384x640 4 cars, 1 truck, 20.3ms\n",
      "Speed: 1.8ms preprocess, 20.3ms inference, 1.1ms postprocess per image at shape (1, 3, 384, 640)\n",
      "\n",
      "image 1/1 /home/user/priyansh/yolo/captured_5_sec/frame_630.jpg: 384x640 3 cars, 19.8ms\n",
      "Speed: 1.5ms preprocess, 19.8ms inference, 1.1ms postprocess per image at shape (1, 3, 384, 640)\n",
      "\n",
      "image 1/1 /home/user/priyansh/yolo/captured_5_sec/frame_120.jpg: 384x640 2 cars, 20.9ms\n",
      "Speed: 1.5ms preprocess, 20.9ms inference, 1.2ms postprocess per image at shape (1, 3, 384, 640)\n",
      "\n"
     ]
    },
    {
     "name": "stdout",
     "output_type": "stream",
     "text": [
      "5\n",
      "3\n",
      "2\n"
     ]
    },
    {
     "name": "stderr",
     "output_type": "stream",
     "text": [
      "image 1/1 /home/user/priyansh/yolo/captured_5_sec/frame_1070.jpg: 384x640 1 motorcycle, 18.9ms\n",
      "Speed: 1.5ms preprocess, 18.9ms inference, 1.1ms postprocess per image at shape (1, 3, 384, 640)\n",
      "\n",
      "image 1/1 /home/user/priyansh/yolo/captured_5_sec/frame_110.jpg: 384x640 2 cars, 20.0ms\n",
      "Speed: 1.5ms preprocess, 20.0ms inference, 1.1ms postprocess per image at shape (1, 3, 384, 640)\n",
      "\n",
      "image 1/1 /home/user/priyansh/yolo/captured_5_sec/frame_1440.jpg: 384x640 1 car, 19.2ms\n",
      "Speed: 1.5ms preprocess, 19.2ms inference, 1.0ms postprocess per image at shape (1, 3, 384, 640)\n",
      "\n"
     ]
    },
    {
     "name": "stdout",
     "output_type": "stream",
     "text": [
      "1\n",
      "2\n",
      "1\n"
     ]
    },
    {
     "name": "stderr",
     "output_type": "stream",
     "text": [
      "image 1/1 /home/user/priyansh/yolo/captured_5_sec/frame_460.jpg: 384x640 2 cars, 1 truck, 19.7ms\n",
      "Speed: 1.5ms preprocess, 19.7ms inference, 2.4ms postprocess per image at shape (1, 3, 384, 640)\n",
      "\n",
      "image 1/1 /home/user/priyansh/yolo/captured_5_sec/frame_1180.jpg: 384x640 (no detections), 19.8ms\n",
      "Speed: 1.5ms preprocess, 19.8ms inference, 0.5ms postprocess per image at shape (1, 3, 384, 640)\n",
      "\n",
      "image 1/1 /home/user/priyansh/yolo/captured_5_sec/frame_970.jpg: 384x640 1 person, 1 motorcycle, 19.2ms\n",
      "Speed: 1.6ms preprocess, 19.2ms inference, 1.1ms postprocess per image at shape (1, 3, 384, 640)\n",
      "\n",
      "image 1/1 /home/user/priyansh/yolo/captured_5_sec/frame_140.jpg: 384x640 2 cars, 1 bus, 20.2ms\n"
     ]
    },
    {
     "name": "stdout",
     "output_type": "stream",
     "text": [
      "3\n",
      "0\n",
      "2\n"
     ]
    },
    {
     "name": "stderr",
     "output_type": "stream",
     "text": [
      "Speed: 1.5ms preprocess, 20.2ms inference, 1.0ms postprocess per image at shape (1, 3, 384, 640)\n",
      "\n",
      "image 1/1 /home/user/priyansh/yolo/captured_5_sec/frame_1140.jpg: 384x640 1 motorcycle, 19.5ms\n",
      "Speed: 1.5ms preprocess, 19.5ms inference, 1.0ms postprocess per image at shape (1, 3, 384, 640)\n",
      "\n",
      "image 1/1 /home/user/priyansh/yolo/captured_5_sec/frame_600.jpg: 384x640 1 person, 2 cars, 1 motorcycle, 19.8ms\n",
      "Speed: 1.5ms preprocess, 19.8ms inference, 2.2ms postprocess per image at shape (1, 3, 384, 640)\n",
      "\n"
     ]
    },
    {
     "name": "stdout",
     "output_type": "stream",
     "text": [
      "3\n",
      "1\n",
      "4\n"
     ]
    },
    {
     "name": "stderr",
     "output_type": "stream",
     "text": [
      "image 1/1 /home/user/priyansh/yolo/captured_5_sec/frame_1170.jpg: 384x640 (no detections), 19.4ms\n",
      "Speed: 1.5ms preprocess, 19.4ms inference, 1.4ms postprocess per image at shape (1, 3, 384, 640)\n",
      "\n",
      "image 1/1 /home/user/priyansh/yolo/captured_5_sec/frame_490.jpg: 384x640 3 cars, 2 trucks, 19.9ms\n",
      "Speed: 1.5ms preprocess, 19.9ms inference, 1.0ms postprocess per image at shape (1, 3, 384, 640)\n",
      "\n",
      "image 1/1 /home/user/priyansh/yolo/captured_5_sec/frame_380.jpg: 384x640 2 cars, 19.3ms\n",
      "Speed: 1.5ms preprocess, 19.3ms inference, 1.0ms postprocess per image at shape (1, 3, 384, 640)\n",
      "\n",
      "image 1/1 /home/user/priyansh/yolo/captured_5_sec/frame_310.jpg: 384x640 3 cars, 19.8ms\n",
      "Speed: 1.6ms preprocess, 19.8ms inference, 1.1ms postprocess per image at shape (1, 3, 384, 640)\n"
     ]
    },
    {
     "name": "stdout",
     "output_type": "stream",
     "text": [
      "0\n",
      "5\n",
      "2\n",
      "3\n"
     ]
    },
    {
     "name": "stderr",
     "output_type": "stream",
     "text": [
      "\n",
      "image 1/1 /home/user/priyansh/yolo/captured_5_sec/frame_650.jpg: 384x640 4 cars, 22.7ms\n",
      "Speed: 1.5ms preprocess, 22.7ms inference, 1.3ms postprocess per image at shape (1, 3, 384, 640)\n",
      "\n",
      "image 1/1 /home/user/priyansh/yolo/captured_5_sec/frame_100.jpg: 384x640 2 cars, 20.4ms\n",
      "Speed: 1.5ms preprocess, 20.4ms inference, 1.0ms postprocess per image at shape (1, 3, 384, 640)\n",
      "\n",
      "image 1/1 /home/user/priyansh/yolo/captured_5_sec/frame_1270.jpg: 384x640 1 car, 1 truck, 24.3ms\n",
      "Speed: 1.8ms preprocess, 24.3ms inference, 1.1ms postprocess per image at shape (1, 3, 384, 640)\n",
      "\n"
     ]
    },
    {
     "name": "stdout",
     "output_type": "stream",
     "text": [
      "4\n",
      "2\n",
      "2\n"
     ]
    },
    {
     "name": "stderr",
     "output_type": "stream",
     "text": [
      "image 1/1 /home/user/priyansh/yolo/captured_5_sec/frame_50.jpg: 384x640 2 cars, 18.8ms\n",
      "Speed: 1.4ms preprocess, 18.8ms inference, 1.0ms postprocess per image at shape (1, 3, 384, 640)\n",
      "\n",
      "image 1/1 /home/user/priyansh/yolo/captured_5_sec/frame_1200.jpg: 384x640 1 car, 1 truck, 24.6ms\n",
      "Speed: 1.5ms preprocess, 24.6ms inference, 1.0ms postprocess per image at shape (1, 3, 384, 640)\n",
      "\n",
      "image 1/1 /home/user/priyansh/yolo/captured_5_sec/frame_1120.jpg: 384x640 1 person, 1 motorcycle, 20.1ms\n",
      "Speed: 1.5ms preprocess, 20.1ms inference, 0.9ms postprocess per image at shape (1, 3, 384, 640)\n",
      "\n"
     ]
    },
    {
     "name": "stdout",
     "output_type": "stream",
     "text": [
      "2\n",
      "2\n",
      "2\n"
     ]
    },
    {
     "name": "stderr",
     "output_type": "stream",
     "text": [
      "image 1/1 /home/user/priyansh/yolo/captured_5_sec/frame_610.jpg: 384x640 2 cars, 1 motorcycle, 19.1ms\n",
      "Speed: 1.5ms preprocess, 19.1ms inference, 1.7ms postprocess per image at shape (1, 3, 384, 640)\n",
      "\n",
      "image 1/1 /home/user/priyansh/yolo/captured_5_sec/frame_1470.jpg: 384x640 1 person, 2 cars, 19.7ms\n",
      "Speed: 1.7ms preprocess, 19.7ms inference, 1.0ms postprocess per image at shape (1, 3, 384, 640)\n",
      "\n",
      "image 1/1 /home/user/priyansh/yolo/captured_5_sec/frame_390.jpg: 384x640 3 cars, 1 truck, 21.9ms\n",
      "Speed: 1.4ms preprocess, 21.9ms inference, 2.2ms postprocess per image at shape (1, 3, 384, 640)\n",
      "\n"
     ]
    },
    {
     "name": "stdout",
     "output_type": "stream",
     "text": [
      "3\n",
      "3\n",
      "4\n"
     ]
    },
    {
     "name": "stderr",
     "output_type": "stream",
     "text": [
      "image 1/1 /home/user/priyansh/yolo/captured_5_sec/frame_900.jpg: 384x640 (no detections), 20.0ms\n",
      "Speed: 1.6ms preprocess, 20.0ms inference, 1.0ms postprocess per image at shape (1, 3, 384, 640)\n",
      "\n",
      "image 1/1 /home/user/priyansh/yolo/captured_5_sec/frame_860.jpg: 384x640 1 person, 1 motorcycle, 1 truck, 19.3ms\n",
      "Speed: 2.1ms preprocess, 19.3ms inference, 1.1ms postprocess per image at shape (1, 3, 384, 640)\n",
      "\n",
      "image 1/1 /home/user/priyansh/yolo/captured_5_sec/frame_470.jpg: 384x640 2 cars, 1 truck, 18.7ms\n",
      "Speed: 1.6ms preprocess, 18.7ms inference, 1.1ms postprocess per image at shape (1, 3, 384, 640)\n",
      "\n"
     ]
    },
    {
     "name": "stdout",
     "output_type": "stream",
     "text": [
      "0\n",
      "3\n",
      "3\n"
     ]
    },
    {
     "name": "stderr",
     "output_type": "stream",
     "text": [
      "image 1/1 /home/user/priyansh/yolo/captured_5_sec/frame_910.jpg: 384x640 (no detections), 18.7ms\n",
      "Speed: 1.7ms preprocess, 18.7ms inference, 1.0ms postprocess per image at shape (1, 3, 384, 640)\n",
      "\n",
      "image 1/1 /home/user/priyansh/yolo/captured_5_sec/frame_620.jpg: 384x640 4 cars, 20.1ms\n",
      "Speed: 1.6ms preprocess, 20.1ms inference, 1.1ms postprocess per image at shape (1, 3, 384, 640)\n",
      "\n",
      "image 1/1 /home/user/priyansh/yolo/captured_5_sec/frame_1260.jpg: 384x640 1 car, 2 trucks, 18.1ms\n",
      "Speed: 1.5ms preprocess, 18.1ms inference, 1.1ms postprocess per image at shape (1, 3, 384, 640)\n",
      "\n",
      "image 1/1 /home/user/priyansh/yolo/captured_5_sec/frame_680.jpg: 384x640 2 cars, 19.8ms\n",
      "Speed: 1.6ms preprocess, 19.8ms inference, 1.0ms postprocess per image at shape (1, 3, 384, 640)\n"
     ]
    },
    {
     "name": "stdout",
     "output_type": "stream",
     "text": [
      "0\n",
      "4\n",
      "3\n",
      "2\n"
     ]
    },
    {
     "name": "stderr",
     "output_type": "stream",
     "text": [
      "\n",
      "image 1/1 /home/user/priyansh/yolo/captured_5_sec/frame_790.jpg: 384x640 2 cars, 1 truck, 19.7ms\n",
      "Speed: 1.6ms preprocess, 19.7ms inference, 2.0ms postprocess per image at shape (1, 3, 384, 640)\n",
      "\n",
      "image 1/1 /home/user/priyansh/yolo/captured_5_sec/frame_800.jpg: 384x640 2 cars, 1 truck, 25.4ms\n",
      "Speed: 1.5ms preprocess, 25.4ms inference, 1.1ms postprocess per image at shape (1, 3, 384, 640)\n",
      "\n",
      "image 1/1 /home/user/priyansh/yolo/captured_5_sec/frame_1240.jpg: 384x640 1 car, 1 truck, 20.7ms\n",
      "Speed: 1.5ms preprocess, 20.7ms inference, 1.5ms postprocess per image at shape (1, 3, 384, 640)\n",
      "\n"
     ]
    },
    {
     "name": "stdout",
     "output_type": "stream",
     "text": [
      "3\n",
      "3\n",
      "2\n"
     ]
    },
    {
     "name": "stderr",
     "output_type": "stream",
     "text": [
      "image 1/1 /home/user/priyansh/yolo/captured_5_sec/frame_440.jpg: 384x640 1 truck, 23.7ms\n",
      "Speed: 1.5ms preprocess, 23.7ms inference, 2.1ms postprocess per image at shape (1, 3, 384, 640)\n",
      "\n",
      "image 1/1 /home/user/priyansh/yolo/captured_5_sec/frame_1330.jpg: 384x640 (no detections), 18.9ms\n",
      "Speed: 2.0ms preprocess, 18.9ms inference, 0.7ms postprocess per image at shape (1, 3, 384, 640)\n",
      "\n",
      "image 1/1 /home/user/priyansh/yolo/captured_5_sec/frame_60.jpg: 384x640 2 cars, 20.3ms\n",
      "Speed: 1.5ms preprocess, 20.3ms inference, 1.0ms postprocess per image at shape (1, 3, 384, 640)\n",
      "\n"
     ]
    },
    {
     "name": "stdout",
     "output_type": "stream",
     "text": [
      "1\n",
      "0\n",
      "2\n"
     ]
    },
    {
     "name": "stderr",
     "output_type": "stream",
     "text": [
      "image 1/1 /home/user/priyansh/yolo/captured_5_sec/frame_230.jpg: 384x640 1 truck, 20.3ms\n",
      "Speed: 1.6ms preprocess, 20.3ms inference, 1.1ms postprocess per image at shape (1, 3, 384, 640)\n",
      "\n",
      "image 1/1 /home/user/priyansh/yolo/captured_5_sec/frame_1050.jpg: 384x640 1 motorcycle, 18.6ms\n",
      "Speed: 1.9ms preprocess, 18.6ms inference, 5.1ms postprocess per image at shape (1, 3, 384, 640)\n",
      "\n",
      "image 1/1 /home/user/priyansh/yolo/captured_5_sec/frame_780.jpg: 384x640 1 car, 1 truck, 19.7ms\n",
      "Speed: 1.6ms preprocess, 19.7ms inference, 1.6ms postprocess per image at shape (1, 3, 384, 640)\n",
      "\n"
     ]
    },
    {
     "name": "stdout",
     "output_type": "stream",
     "text": [
      "1\n",
      "1\n",
      "2\n"
     ]
    },
    {
     "name": "stderr",
     "output_type": "stream",
     "text": [
      "image 1/1 /home/user/priyansh/yolo/captured_5_sec/frame_500.jpg: 384x640 2 cars, 2 trucks, 20.7ms\n",
      "Speed: 1.9ms preprocess, 20.7ms inference, 1.1ms postprocess per image at shape (1, 3, 384, 640)\n",
      "\n",
      "image 1/1 /home/user/priyansh/yolo/captured_5_sec/frame_160.jpg: 384x640 1 car, 19.8ms\n",
      "Speed: 1.6ms preprocess, 19.8ms inference, 1.8ms postprocess per image at shape (1, 3, 384, 640)\n",
      "\n",
      "image 1/1 /home/user/priyansh/yolo/captured_5_sec/frame_10.jpg: 384x640 2 cars, 24.7ms\n",
      "Speed: 1.5ms preprocess, 24.7ms inference, 3.1ms postprocess per image at shape (1, 3, 384, 640)\n",
      "\n"
     ]
    },
    {
     "name": "stdout",
     "output_type": "stream",
     "text": [
      "4\n",
      "1\n",
      "2\n"
     ]
    },
    {
     "name": "stderr",
     "output_type": "stream",
     "text": [
      "image 1/1 /home/user/priyansh/yolo/captured_5_sec/frame_700.jpg: 384x640 3 cars, 19.0ms\n",
      "Speed: 1.5ms preprocess, 19.0ms inference, 1.0ms postprocess per image at shape (1, 3, 384, 640)\n",
      "\n",
      "image 1/1 /home/user/priyansh/yolo/captured_5_sec/frame_420.jpg: 384x640 1 truck, 18.1ms\n",
      "Speed: 1.4ms preprocess, 18.1ms inference, 3.8ms postprocess per image at shape (1, 3, 384, 640)\n",
      "\n",
      "image 1/1 /home/user/priyansh/yolo/captured_5_sec/frame_1220.jpg: 384x640 1 car, 1 truck, 18.3ms\n",
      "Speed: 1.5ms preprocess, 18.3ms inference, 1.2ms postprocess per image at shape (1, 3, 384, 640)\n",
      "\n"
     ]
    },
    {
     "name": "stdout",
     "output_type": "stream",
     "text": [
      "3\n",
      "1\n",
      "2\n"
     ]
    },
    {
     "name": "stderr",
     "output_type": "stream",
     "text": [
      "image 1/1 /home/user/priyansh/yolo/captured_5_sec/frame_850.jpg: 384x640 1 person, 1 motorcycle, 1 truck, 18.6ms\n",
      "Speed: 1.5ms preprocess, 18.6ms inference, 1.6ms postprocess per image at shape (1, 3, 384, 640)\n",
      "\n",
      "image 1/1 /home/user/priyansh/yolo/captured_5_sec/frame_170.jpg: 384x640 1 car, 24.2ms\n",
      "Speed: 2.2ms preprocess, 24.2ms inference, 1.0ms postprocess per image at shape (1, 3, 384, 640)\n",
      "\n",
      "image 1/1 /home/user/priyansh/yolo/captured_5_sec/frame_210.jpg: 384x640 1 truck, 18.5ms\n",
      "Speed: 1.4ms preprocess, 18.5ms inference, 0.9ms postprocess per image at shape (1, 3, 384, 640)\n",
      "\n"
     ]
    },
    {
     "name": "stdout",
     "output_type": "stream",
     "text": [
      "3\n",
      "1\n",
      "1\n"
     ]
    },
    {
     "name": "stderr",
     "output_type": "stream",
     "text": [
      "image 1/1 /home/user/priyansh/yolo/captured_5_sec/frame_730.jpg: 384x640 4 cars, 20.0ms\n",
      "Speed: 1.5ms preprocess, 20.0ms inference, 5.9ms postprocess per image at shape (1, 3, 384, 640)\n",
      "\n",
      "image 1/1 /home/user/priyansh/yolo/captured_5_sec/frame_1150.jpg: 384x640 1 motorcycle, 18.4ms\n",
      "Speed: 1.5ms preprocess, 18.4ms inference, 0.9ms postprocess per image at shape (1, 3, 384, 640)\n",
      "\n",
      "image 1/1 /home/user/priyansh/yolo/captured_5_sec/frame_1090.jpg: 384x640 1 person, 1 motorcycle, 18.3ms\n",
      "Speed: 1.5ms preprocess, 18.3ms inference, 4.5ms postprocess per image at shape (1, 3, 384, 640)\n",
      "\n"
     ]
    },
    {
     "name": "stdout",
     "output_type": "stream",
     "text": [
      "4\n",
      "1\n",
      "2\n"
     ]
    },
    {
     "name": "stderr",
     "output_type": "stream",
     "text": [
      "image 1/1 /home/user/priyansh/yolo/captured_5_sec/frame_990.jpg: 384x640 1 person, 1 motorcycle, 18.9ms\n",
      "Speed: 1.6ms preprocess, 18.9ms inference, 1.1ms postprocess per image at shape (1, 3, 384, 640)\n",
      "\n",
      "image 1/1 /home/user/priyansh/yolo/captured_5_sec/frame_280.jpg: 384x640 3 cars, 18.3ms\n",
      "Speed: 1.4ms preprocess, 18.3ms inference, 1.1ms postprocess per image at shape (1, 3, 384, 640)\n",
      "\n",
      "image 1/1 /home/user/priyansh/yolo/captured_5_sec/frame_1320.jpg: 384x640 (no detections), 17.9ms\n",
      "Speed: 1.8ms preprocess, 17.9ms inference, 0.7ms postprocess per image at shape (1, 3, 384, 640)\n",
      "\n"
     ]
    },
    {
     "name": "stdout",
     "output_type": "stream",
     "text": [
      "2\n",
      "3\n",
      "0\n"
     ]
    },
    {
     "name": "stderr",
     "output_type": "stream",
     "text": [
      "image 1/1 /home/user/priyansh/yolo/captured_5_sec/frame_750.jpg: 384x640 3 cars, 18.1ms\n",
      "Speed: 1.5ms preprocess, 18.1ms inference, 1.6ms postprocess per image at shape (1, 3, 384, 640)\n",
      "\n",
      "image 1/1 /home/user/priyansh/yolo/captured_5_sec/frame_660.jpg: 384x640 3 cars, 18.0ms\n",
      "Speed: 1.4ms preprocess, 18.0ms inference, 0.9ms postprocess per image at shape (1, 3, 384, 640)\n",
      "\n",
      "image 1/1 /home/user/priyansh/yolo/captured_5_sec/frame_240.jpg: 384x640 1 car, 1 truck, 18.3ms\n",
      "Speed: 1.6ms preprocess, 18.3ms inference, 1.1ms postprocess per image at shape (1, 3, 384, 640)\n",
      "\n"
     ]
    },
    {
     "name": "stdout",
     "output_type": "stream",
     "text": [
      "3\n",
      "3\n",
      "2\n"
     ]
    },
    {
     "name": "stderr",
     "output_type": "stream",
     "text": [
      "image 1/1 /home/user/priyansh/yolo/captured_5_sec/frame_1360.jpg: 384x640 (no detections), 19.4ms\n",
      "Speed: 1.5ms preprocess, 19.4ms inference, 0.6ms postprocess per image at shape (1, 3, 384, 640)\n",
      "\n",
      "image 1/1 /home/user/priyansh/yolo/captured_5_sec/frame_450.jpg: 384x640 1 truck, 18.1ms\n",
      "Speed: 1.5ms preprocess, 18.1ms inference, 1.0ms postprocess per image at shape (1, 3, 384, 640)\n",
      "\n",
      "image 1/1 /home/user/priyansh/yolo/captured_5_sec/frame_130.jpg: 384x640 2 cars, 18.8ms\n",
      "Speed: 1.5ms preprocess, 18.8ms inference, 1.1ms postprocess per image at shape (1, 3, 384, 640)\n",
      "\n"
     ]
    },
    {
     "name": "stdout",
     "output_type": "stream",
     "text": [
      "0\n",
      "1\n",
      "2\n"
     ]
    },
    {
     "name": "stderr",
     "output_type": "stream",
     "text": [
      "image 1/1 /home/user/priyansh/yolo/captured_5_sec/frame_670.jpg: 384x640 3 cars, 18.5ms\n",
      "Speed: 1.5ms preprocess, 18.5ms inference, 1.4ms postprocess per image at shape (1, 3, 384, 640)\n",
      "\n",
      "image 1/1 /home/user/priyansh/yolo/captured_5_sec/frame_960.jpg: 384x640 (no detections), 22.8ms\n",
      "Speed: 1.5ms preprocess, 22.8ms inference, 4.1ms postprocess per image at shape (1, 3, 384, 640)\n",
      "\n",
      "image 1/1 /home/user/priyansh/yolo/captured_5_sec/frame_570.jpg: 384x640 1 person, 2 cars, 1 motorcycle, 18.3ms\n",
      "Speed: 1.9ms preprocess, 18.3ms inference, 1.3ms postprocess per image at shape (1, 3, 384, 640)\n",
      "\n"
     ]
    },
    {
     "name": "stdout",
     "output_type": "stream",
     "text": [
      "3\n",
      "0\n",
      "4\n"
     ]
    },
    {
     "name": "stderr",
     "output_type": "stream",
     "text": [
      "image 1/1 /home/user/priyansh/yolo/captured_5_sec/frame_1430.jpg: 384x640 1 car, 18.0ms\n",
      "Speed: 1.6ms preprocess, 18.0ms inference, 1.7ms postprocess per image at shape (1, 3, 384, 640)\n",
      "\n",
      "image 1/1 /home/user/priyansh/yolo/captured_5_sec/frame_480.jpg: 384x640 3 cars, 2 trucks, 26.6ms\n",
      "Speed: 1.6ms preprocess, 26.6ms inference, 1.5ms postprocess per image at shape (1, 3, 384, 640)\n",
      "\n",
      "image 1/1 /home/user/priyansh/yolo/captured_5_sec/frame_1020.jpg: 384x640 1 motorcycle, 18.2ms\n",
      "Speed: 1.6ms preprocess, 18.2ms inference, 0.9ms postprocess per image at shape (1, 3, 384, 640)\n",
      "\n"
     ]
    },
    {
     "name": "stdout",
     "output_type": "stream",
     "text": [
      "1\n",
      "5\n",
      "1\n"
     ]
    },
    {
     "name": "stderr",
     "output_type": "stream",
     "text": [
      "image 1/1 /home/user/priyansh/yolo/captured_5_sec/frame_350.jpg: 384x640 2 cars, 1 bus, 19.9ms\n",
      "Speed: 1.6ms preprocess, 19.9ms inference, 1.0ms postprocess per image at shape (1, 3, 384, 640)\n",
      "\n",
      "image 1/1 /home/user/priyansh/yolo/captured_5_sec/frame_1380.jpg: 384x640 1 car, 19.5ms\n",
      "Speed: 1.6ms preprocess, 19.5ms inference, 1.0ms postprocess per image at shape (1, 3, 384, 640)\n",
      "\n",
      "image 1/1 /home/user/priyansh/yolo/captured_5_sec/frame_880.jpg: 384x640 1 car, 1 motorcycle, 18.9ms\n",
      "Speed: 1.5ms preprocess, 18.9ms inference, 1.1ms postprocess per image at shape (1, 3, 384, 640)\n",
      "\n",
      "image 1/1 /home/user/priyansh/yolo/captured_5_sec/frame_1410.jpg: 384x640 1 car, 18.9ms\n",
      "Speed: 1.5ms preprocess, 18.9ms inference, 1.0ms postprocess per image at shape (1, 3, 384, 640)\n"
     ]
    },
    {
     "name": "stdout",
     "output_type": "stream",
     "text": [
      "3\n",
      "1\n",
      "2\n",
      "1\n"
     ]
    },
    {
     "name": "stderr",
     "output_type": "stream",
     "text": [
      "\n",
      "image 1/1 /home/user/priyansh/yolo/captured_5_sec/frame_1290.jpg: 384x640 2 cars, 18.8ms\n",
      "Speed: 1.5ms preprocess, 18.8ms inference, 1.1ms postprocess per image at shape (1, 3, 384, 640)\n",
      "\n",
      "image 1/1 /home/user/priyansh/yolo/captured_5_sec/frame_290.jpg: 384x640 3 cars, 18.9ms\n",
      "Speed: 1.5ms preprocess, 18.9ms inference, 1.2ms postprocess per image at shape (1, 3, 384, 640)\n",
      "\n",
      "image 1/1 /home/user/priyansh/yolo/captured_5_sec/frame_150.jpg: 384x640 2 cars, 18.6ms\n",
      "Speed: 1.5ms preprocess, 18.6ms inference, 1.0ms postprocess per image at shape (1, 3, 384, 640)\n",
      "\n"
     ]
    },
    {
     "name": "stdout",
     "output_type": "stream",
     "text": [
      "2\n",
      "3\n",
      "2\n"
     ]
    },
    {
     "name": "stderr",
     "output_type": "stream",
     "text": [
      "image 1/1 /home/user/priyansh/yolo/captured_5_sec/frame_520.jpg: 384x640 3 cars, 1 truck, 23.6ms\n",
      "Speed: 1.6ms preprocess, 23.6ms inference, 5.8ms postprocess per image at shape (1, 3, 384, 640)\n",
      "\n",
      "image 1/1 /home/user/priyansh/yolo/captured_5_sec/frame_400.jpg: 384x640 1 person, 2 cars, 1 truck, 17.6ms\n",
      "Speed: 1.7ms preprocess, 17.6ms inference, 1.1ms postprocess per image at shape (1, 3, 384, 640)\n",
      "\n",
      "image 1/1 /home/user/priyansh/yolo/captured_5_sec/frame_820.jpg: 384x640 1 person, 3 cars, 1 motorcycle, 18.9ms\n",
      "Speed: 1.7ms preprocess, 18.9ms inference, 1.3ms postprocess per image at shape (1, 3, 384, 640)\n"
     ]
    },
    {
     "name": "stdout",
     "output_type": "stream",
     "text": [
      "4\n",
      "4\n",
      "5\n"
     ]
    },
    {
     "name": "stderr",
     "output_type": "stream",
     "text": [
      "\n",
      "image 1/1 /home/user/priyansh/yolo/captured_5_sec/frame_1460.jpg: 384x640 2 cars, 19.1ms\n",
      "Speed: 1.6ms preprocess, 19.1ms inference, 1.2ms postprocess per image at shape (1, 3, 384, 640)\n",
      "\n",
      "image 1/1 /home/user/priyansh/yolo/captured_5_sec/frame_940.jpg: 384x640 (no detections), 18.7ms\n",
      "Speed: 1.6ms preprocess, 18.7ms inference, 0.6ms postprocess per image at shape (1, 3, 384, 640)\n",
      "\n",
      "image 1/1 /home/user/priyansh/yolo/captured_5_sec/frame_760.jpg: 384x640 2 cars, 19.0ms\n",
      "Speed: 1.7ms preprocess, 19.0ms inference, 1.0ms postprocess per image at shape (1, 3, 384, 640)\n",
      "\n",
      "image 1/1 /home/user/priyansh/yolo/captured_5_sec/frame_690.jpg: 384x640 3 cars, 18.3ms\n",
      "Speed: 1.6ms preprocess, 18.3ms inference, 1.0ms postprocess per image at shape (1, 3, 384, 640)\n"
     ]
    },
    {
     "name": "stdout",
     "output_type": "stream",
     "text": [
      "2\n",
      "0\n",
      "2\n",
      "3\n"
     ]
    },
    {
     "name": "stderr",
     "output_type": "stream",
     "text": [
      "\n",
      "image 1/1 /home/user/priyansh/yolo/captured_5_sec/frame_1340.jpg: 384x640 (no detections), 25.0ms\n",
      "Speed: 2.2ms preprocess, 25.0ms inference, 0.7ms postprocess per image at shape (1, 3, 384, 640)\n",
      "\n",
      "image 1/1 /home/user/priyansh/yolo/captured_5_sec/frame_1450.jpg: 384x640 1 car, 18.4ms\n",
      "Speed: 1.5ms preprocess, 18.4ms inference, 0.9ms postprocess per image at shape (1, 3, 384, 640)\n",
      "\n",
      "image 1/1 /home/user/priyansh/yolo/captured_5_sec/frame_340.jpg: 384x640 3 cars, 18.4ms\n",
      "Speed: 1.7ms preprocess, 18.4ms inference, 1.1ms postprocess per image at shape (1, 3, 384, 640)\n",
      "\n",
      "image 1/1 /home/user/priyansh/yolo/captured_5_sec/frame_540.jpg: 384x640 4 cars, 1 truck, 22.5ms\n",
      "Speed: 1.5ms preprocess, 22.5ms inference, 8.7ms postprocess per image at shape (1, 3, 384, 640)\n"
     ]
    },
    {
     "name": "stdout",
     "output_type": "stream",
     "text": [
      "0\n",
      "1\n",
      "3\n",
      "5\n"
     ]
    },
    {
     "name": "stderr",
     "output_type": "stream",
     "text": [
      "\n",
      "image 1/1 /home/user/priyansh/yolo/captured_5_sec/frame_1400.jpg: 384x640 1 car, 18.8ms\n",
      "Speed: 1.6ms preprocess, 18.8ms inference, 1.0ms postprocess per image at shape (1, 3, 384, 640)\n",
      "\n",
      "image 1/1 /home/user/priyansh/yolo/captured_5_sec/frame_810.jpg: 384x640 3 cars, 1 truck, 22.5ms\n",
      "Speed: 1.4ms preprocess, 22.5ms inference, 6.3ms postprocess per image at shape (1, 3, 384, 640)\n",
      "\n",
      "image 1/1 /home/user/priyansh/yolo/captured_5_sec/frame_1500.jpg: 384x640 1 car, 18.2ms\n",
      "Speed: 1.5ms preprocess, 18.2ms inference, 1.2ms postprocess per image at shape (1, 3, 384, 640)\n",
      "\n"
     ]
    },
    {
     "name": "stdout",
     "output_type": "stream",
     "text": [
      "1\n",
      "4\n",
      "1\n"
     ]
    },
    {
     "name": "stderr",
     "output_type": "stream",
     "text": [
      "image 1/1 /home/user/priyansh/yolo/captured_5_sec/frame_220.jpg: 384x640 1 truck, 25.8ms\n",
      "Speed: 1.5ms preprocess, 25.8ms inference, 5.5ms postprocess per image at shape (1, 3, 384, 640)\n",
      "\n",
      "image 1/1 /home/user/priyansh/yolo/captured_5_sec/frame_330.jpg: 384x640 3 cars, 18.7ms\n",
      "Speed: 1.6ms preprocess, 18.7ms inference, 1.0ms postprocess per image at shape (1, 3, 384, 640)\n",
      "\n",
      "image 1/1 /home/user/priyansh/yolo/captured_5_sec/frame_1310.jpg: 384x640 (no detections), 18.4ms\n",
      "Speed: 1.5ms preprocess, 18.4ms inference, 0.5ms postprocess per image at shape (1, 3, 384, 640)\n",
      "\n",
      "image 1/1 /home/user/priyansh/yolo/captured_5_sec/frame_320.jpg: 384x640 3 cars, 1 bus, 18.7ms\n",
      "Speed: 1.4ms preprocess, 18.7ms inference, 1.5ms postprocess per image at shape (1, 3, 384, 640)\n"
     ]
    },
    {
     "name": "stdout",
     "output_type": "stream",
     "text": [
      "1\n",
      "3\n",
      "0\n",
      "4\n"
     ]
    },
    {
     "name": "stderr",
     "output_type": "stream",
     "text": [
      "\n",
      "image 1/1 /home/user/priyansh/yolo/captured_5_sec/frame_270.jpg: 384x640 3 cars, 18.6ms\n",
      "Speed: 1.5ms preprocess, 18.6ms inference, 1.0ms postprocess per image at shape (1, 3, 384, 640)\n",
      "\n",
      "image 1/1 /home/user/priyansh/yolo/captured_5_sec/frame_580.jpg: 384x640 2 cars, 1 motorcycle, 21.6ms\n",
      "Speed: 1.4ms preprocess, 21.6ms inference, 3.3ms postprocess per image at shape (1, 3, 384, 640)\n",
      "\n",
      "image 1/1 /home/user/priyansh/yolo/captured_5_sec/frame_20.jpg: 384x640 2 cars, 18.8ms\n",
      "Speed: 1.5ms preprocess, 18.8ms inference, 1.0ms postprocess per image at shape (1, 3, 384, 640)\n",
      "\n"
     ]
    },
    {
     "name": "stdout",
     "output_type": "stream",
     "text": [
      "3\n",
      "3\n",
      "2\n"
     ]
    },
    {
     "name": "stderr",
     "output_type": "stream",
     "text": [
      "image 1/1 /home/user/priyansh/yolo/captured_5_sec/frame_1110.jpg: 384x640 1 person, 2 motorcycles, 18.0ms\n",
      "Speed: 1.9ms preprocess, 18.0ms inference, 1.5ms postprocess per image at shape (1, 3, 384, 640)\n",
      "\n",
      "image 1/1 /home/user/priyansh/yolo/captured_5_sec/frame_550.jpg: 384x640 4 cars, 1 truck, 19.6ms\n",
      "Speed: 1.5ms preprocess, 19.6ms inference, 0.9ms postprocess per image at shape (1, 3, 384, 640)\n",
      "\n",
      "image 1/1 /home/user/priyansh/yolo/captured_5_sec/frame_1280.jpg: 384x640 1 car, 1 truck, 17.7ms\n",
      "Speed: 1.5ms preprocess, 17.7ms inference, 0.9ms postprocess per image at shape (1, 3, 384, 640)\n",
      "\n"
     ]
    },
    {
     "name": "stdout",
     "output_type": "stream",
     "text": [
      "3\n",
      "5\n",
      "2\n"
     ]
    },
    {
     "name": "stderr",
     "output_type": "stream",
     "text": [
      "image 1/1 /home/user/priyansh/yolo/captured_5_sec/frame_930.jpg: 384x640 (no detections), 17.9ms\n",
      "Speed: 1.6ms preprocess, 17.9ms inference, 0.7ms postprocess per image at shape (1, 3, 384, 640)\n",
      "\n",
      "image 1/1 /home/user/priyansh/yolo/captured_5_sec/frame_360.jpg: 384x640 1 car, 17.9ms\n",
      "Speed: 1.5ms preprocess, 17.9ms inference, 1.0ms postprocess per image at shape (1, 3, 384, 640)\n",
      "\n",
      "image 1/1 /home/user/priyansh/yolo/captured_5_sec/frame_0.jpg: 384x640 3 cars, 18.4ms\n",
      "Speed: 1.5ms preprocess, 18.4ms inference, 1.0ms postprocess per image at shape (1, 3, 384, 640)\n",
      "\n",
      "image 1/1 /home/user/priyansh/yolo/captured_5_sec/frame_980.jpg: 384x640 1 person, 1 motorcycle, 19.9ms\n",
      "Speed: 1.4ms preprocess, 19.9ms inference, 3.0ms postprocess per image at shape (1, 3, 384, 640)\n"
     ]
    },
    {
     "name": "stdout",
     "output_type": "stream",
     "text": [
      "0\n",
      "1\n",
      "3\n",
      "2\n"
     ]
    },
    {
     "name": "stderr",
     "output_type": "stream",
     "text": [
      "\n",
      "image 1/1 /home/user/priyansh/yolo/captured_5_sec/frame_1060.jpg: 384x640 (no detections), 19.1ms\n",
      "Speed: 1.5ms preprocess, 19.1ms inference, 0.6ms postprocess per image at shape (1, 3, 384, 640)\n",
      "\n",
      "image 1/1 /home/user/priyansh/yolo/captured_5_sec/frame_1190.jpg: 384x640 1 car, 1 truck, 18.8ms\n",
      "Speed: 1.4ms preprocess, 18.8ms inference, 1.2ms postprocess per image at shape (1, 3, 384, 640)\n",
      "\n",
      "image 1/1 /home/user/priyansh/yolo/captured_5_sec/frame_260.jpg: 384x640 2 cars, 1 truck, 18.3ms\n",
      "Speed: 1.5ms preprocess, 18.3ms inference, 1.1ms postprocess per image at shape (1, 3, 384, 640)\n",
      "\n",
      "image 1/1 /home/user/priyansh/yolo/captured_5_sec/frame_430.jpg: 384x640 1 truck, 17.8ms\n",
      "Speed: 1.5ms preprocess, 17.8ms inference, 1.0ms postprocess per image at shape (1, 3, 384, 640)\n"
     ]
    },
    {
     "name": "stdout",
     "output_type": "stream",
     "text": [
      "0\n",
      "2\n",
      "3\n",
      "1\n"
     ]
    },
    {
     "name": "stderr",
     "output_type": "stream",
     "text": [
      "\n",
      "image 1/1 /home/user/priyansh/yolo/captured_5_sec/frame_200.jpg: 384x640 1 truck, 26.1ms\n",
      "Speed: 1.5ms preprocess, 26.1ms inference, 1.0ms postprocess per image at shape (1, 3, 384, 640)\n",
      "\n",
      "image 1/1 /home/user/priyansh/yolo/captured_5_sec/frame_300.jpg: 384x640 2 cars, 18.0ms\n",
      "Speed: 1.5ms preprocess, 18.0ms inference, 1.1ms postprocess per image at shape (1, 3, 384, 640)\n",
      "\n",
      "image 1/1 /home/user/priyansh/yolo/captured_5_sec/frame_510.jpg: 384x640 2 cars, 2 trucks, 18.3ms\n",
      "Speed: 1.6ms preprocess, 18.3ms inference, 1.1ms postprocess per image at shape (1, 3, 384, 640)\n",
      "\n"
     ]
    },
    {
     "name": "stdout",
     "output_type": "stream",
     "text": [
      "1\n",
      "2\n",
      "4\n"
     ]
    },
    {
     "name": "stderr",
     "output_type": "stream",
     "text": [
      "image 1/1 /home/user/priyansh/yolo/captured_5_sec/frame_1250.jpg: 384x640 1 car, 1 bus, 1 truck, 27.0ms\n",
      "Speed: 1.6ms preprocess, 27.0ms inference, 1.1ms postprocess per image at shape (1, 3, 384, 640)\n",
      "\n",
      "image 1/1 /home/user/priyansh/yolo/captured_5_sec/frame_40.jpg: 384x640 2 cars, 17.6ms\n",
      "Speed: 1.4ms preprocess, 17.6ms inference, 1.0ms postprocess per image at shape (1, 3, 384, 640)\n",
      "\n",
      "image 1/1 /home/user/priyansh/yolo/captured_5_sec/frame_560.jpg: 384x640 2 persons, 3 cars, 1 motorcycle, 1 truck, 18.9ms\n",
      "Speed: 1.5ms preprocess, 18.9ms inference, 11.7ms postprocess per image at shape (1, 3, 384, 640)\n",
      "\n"
     ]
    },
    {
     "name": "stdout",
     "output_type": "stream",
     "text": [
      "3\n",
      "2\n",
      "7\n"
     ]
    },
    {
     "name": "stderr",
     "output_type": "stream",
     "text": [
      "image 1/1 /home/user/priyansh/yolo/captured_5_sec/frame_640.jpg: 384x640 3 cars, 17.9ms\n",
      "Speed: 1.6ms preprocess, 17.9ms inference, 2.1ms postprocess per image at shape (1, 3, 384, 640)\n",
      "\n",
      "image 1/1 /home/user/priyansh/yolo/captured_5_sec/frame_1080.jpg: 384x640 2 persons, 2 motorcycles, 30.3ms\n",
      "Speed: 2.5ms preprocess, 30.3ms inference, 1.0ms postprocess per image at shape (1, 3, 384, 640)\n",
      "\n",
      "image 1/1 /home/user/priyansh/yolo/captured_5_sec/frame_740.jpg: 384x640 4 cars, 18.9ms\n",
      "Speed: 1.5ms preprocess, 18.9ms inference, 1.0ms postprocess per image at shape (1, 3, 384, 640)\n",
      "\n"
     ]
    },
    {
     "name": "stdout",
     "output_type": "stream",
     "text": [
      "3\n",
      "4\n",
      "4\n"
     ]
    },
    {
     "name": "stderr",
     "output_type": "stream",
     "text": [
      "image 1/1 /home/user/priyansh/yolo/captured_5_sec/frame_1490.jpg: 384x640 1 car, 18.2ms\n",
      "Speed: 2.2ms preprocess, 18.2ms inference, 1.1ms postprocess per image at shape (1, 3, 384, 640)\n",
      "\n",
      "image 1/1 /home/user/priyansh/yolo/captured_5_sec/frame_1420.jpg: 384x640 1 car, 28.1ms\n",
      "Speed: 1.5ms preprocess, 28.1ms inference, 7.8ms postprocess per image at shape (1, 3, 384, 640)\n",
      "\n",
      "image 1/1 /home/user/priyansh/yolo/captured_5_sec/frame_1000.jpg: 384x640 1 person, 1 motorcycle, 17.4ms\n",
      "Speed: 1.5ms preprocess, 17.4ms inference, 1.4ms postprocess per image at shape (1, 3, 384, 640)\n",
      "\n"
     ]
    },
    {
     "name": "stdout",
     "output_type": "stream",
     "text": [
      "1\n",
      "1\n",
      "2\n"
     ]
    },
    {
     "name": "stderr",
     "output_type": "stream",
     "text": [
      "image 1/1 /home/user/priyansh/yolo/captured_5_sec/frame_1390.jpg: 384x640 1 car, 17.9ms\n",
      "Speed: 1.6ms preprocess, 17.9ms inference, 11.7ms postprocess per image at shape (1, 3, 384, 640)\n",
      "\n",
      "image 1/1 /home/user/priyansh/yolo/captured_5_sec/frame_90.jpg: 384x640 2 cars, 18.6ms\n",
      "Speed: 1.5ms preprocess, 18.6ms inference, 0.9ms postprocess per image at shape (1, 3, 384, 640)\n",
      "\n",
      "image 1/1 /home/user/priyansh/yolo/captured_5_sec/frame_770.jpg: 384x640 2 cars, 26.7ms\n",
      "Speed: 2.9ms preprocess, 26.7ms inference, 1.1ms postprocess per image at shape (1, 3, 384, 640)\n",
      "\n"
     ]
    },
    {
     "name": "stdout",
     "output_type": "stream",
     "text": [
      "1\n",
      "2\n",
      "2\n"
     ]
    },
    {
     "name": "stderr",
     "output_type": "stream",
     "text": [
      "image 1/1 /home/user/priyansh/yolo/captured_5_sec/frame_950.jpg: 384x640 (no detections), 18.8ms\n",
      "Speed: 1.6ms preprocess, 18.8ms inference, 0.7ms postprocess per image at shape (1, 3, 384, 640)\n",
      "\n",
      "image 1/1 /home/user/priyansh/yolo/captured_5_sec/frame_30.jpg: 384x640 1 car, 18.8ms\n",
      "Speed: 1.6ms preprocess, 18.8ms inference, 7.3ms postprocess per image at shape (1, 3, 384, 640)\n",
      "\n",
      "image 1/1 /home/user/priyansh/yolo/captured_5_sec/frame_1130.jpg: 384x640 1 motorcycle, 18.6ms\n",
      "Speed: 1.6ms preprocess, 18.6ms inference, 1.2ms postprocess per image at shape (1, 3, 384, 640)\n",
      "\n"
     ]
    },
    {
     "name": "stdout",
     "output_type": "stream",
     "text": [
      "0\n",
      "1\n",
      "1\n"
     ]
    },
    {
     "name": "stderr",
     "output_type": "stream",
     "text": [
      "image 1/1 /home/user/priyansh/yolo/captured_5_sec/frame_250.jpg: 384x640 1 car, 1 truck, 30.3ms\n",
      "Speed: 2.0ms preprocess, 30.3ms inference, 4.8ms postprocess per image at shape (1, 3, 384, 640)\n",
      "\n",
      "image 1/1 /home/user/priyansh/yolo/captured_5_sec/frame_80.jpg: 384x640 1 car, 17.7ms\n",
      "Speed: 1.5ms preprocess, 17.7ms inference, 1.1ms postprocess per image at shape (1, 3, 384, 640)\n",
      "\n",
      "image 1/1 /home/user/priyansh/yolo/captured_5_sec/frame_920.jpg: 384x640 (no detections), 16.9ms\n",
      "Speed: 1.6ms preprocess, 16.9ms inference, 0.7ms postprocess per image at shape (1, 3, 384, 640)\n",
      "\n",
      "image 1/1 /home/user/priyansh/yolo/captured_5_sec/frame_710.jpg: 384x640 2 cars, 1 truck, 20.3ms\n",
      "Speed: 2.2ms preprocess, 20.3ms inference, 1.4ms postprocess per image at shape (1, 3, 384, 640)\n"
     ]
    },
    {
     "name": "stdout",
     "output_type": "stream",
     "text": [
      "2\n",
      "1\n",
      "0\n",
      "3\n"
     ]
    },
    {
     "name": "stderr",
     "output_type": "stream",
     "text": [
      "\n",
      "image 1/1 /home/user/priyansh/yolo/captured_5_sec/frame_1100.jpg: 384x640 1 person, 2 motorcycles, 16.3ms\n",
      "Speed: 1.4ms preprocess, 16.3ms inference, 1.0ms postprocess per image at shape (1, 3, 384, 640)\n",
      "\n",
      "image 1/1 /home/user/priyansh/yolo/captured_5_sec/frame_70.jpg: 384x640 2 cars, 19.8ms\n",
      "Speed: 1.6ms preprocess, 19.8ms inference, 4.4ms postprocess per image at shape (1, 3, 384, 640)\n",
      "\n",
      "image 1/1 /home/user/priyansh/yolo/captured_5_sec/frame_720.jpg: 384x640 3 cars, 17.0ms\n",
      "Speed: 1.6ms preprocess, 17.0ms inference, 1.1ms postprocess per image at shape (1, 3, 384, 640)\n",
      "\n"
     ]
    },
    {
     "name": "stdout",
     "output_type": "stream",
     "text": [
      "3\n",
      "2\n",
      "3\n"
     ]
    },
    {
     "name": "stderr",
     "output_type": "stream",
     "text": [
      "image 1/1 /home/user/priyansh/yolo/captured_5_sec/frame_1480.jpg: 384x640 1 person, 2 cars, 20.8ms\n",
      "Speed: 1.5ms preprocess, 20.8ms inference, 4.9ms postprocess per image at shape (1, 3, 384, 640)\n",
      "\n",
      "image 1/1 /home/user/priyansh/yolo/captured_5_sec/frame_370.jpg: 384x640 2 cars, 17.7ms\n",
      "Speed: 1.6ms preprocess, 17.7ms inference, 1.2ms postprocess per image at shape (1, 3, 384, 640)\n",
      "\n",
      "image 1/1 /home/user/priyansh/yolo/captured_5_sec/frame_180.jpg: 384x640 2 cars, 1 motorcycle, 1 truck, 24.1ms\n",
      "Speed: 1.5ms preprocess, 24.1ms inference, 8.8ms postprocess per image at shape (1, 3, 384, 640)\n",
      "\n"
     ]
    },
    {
     "name": "stdout",
     "output_type": "stream",
     "text": [
      "3\n",
      "2\n",
      "4\n"
     ]
    },
    {
     "name": "stderr",
     "output_type": "stream",
     "text": [
      "image 1/1 /home/user/priyansh/yolo/captured_5_sec/frame_870.jpg: 384x640 1 car, 1 motorcycle, 1 truck, 17.2ms\n",
      "Speed: 1.6ms preprocess, 17.2ms inference, 2.8ms postprocess per image at shape (1, 3, 384, 640)\n",
      "\n",
      "image 1/1 /home/user/priyansh/yolo/captured_5_sec/frame_1370.jpg: 384x640 (no detections), 17.6ms\n",
      "Speed: 1.8ms preprocess, 17.6ms inference, 6.2ms postprocess per image at shape (1, 3, 384, 640)\n",
      "\n",
      "image 1/1 /home/user/priyansh/yolo/captured_5_sec/frame_890.jpg: 384x640 (no detections), 16.9ms\n",
      "Speed: 1.6ms preprocess, 16.9ms inference, 1.0ms postprocess per image at shape (1, 3, 384, 640)\n",
      "\n",
      "image 1/1 /home/user/priyansh/yolo/captured_5_sec/frame_1230.jpg: 384x640 1 car, 1 truck, 16.8ms\n",
      "Speed: 1.6ms preprocess, 16.8ms inference, 1.1ms postprocess per image at shape (1, 3, 384, 640)\n",
      "\n"
     ]
    },
    {
     "name": "stdout",
     "output_type": "stream",
     "text": [
      "3\n",
      "0\n",
      "0\n",
      "2\n"
     ]
    },
    {
     "name": "stderr",
     "output_type": "stream",
     "text": [
      "image 1/1 /home/user/priyansh/yolo/captured_5_sec/frame_830.jpg: 384x640 1 person, 1 car, 1 motorcycle, 1 truck, 16.3ms\n",
      "Speed: 1.8ms preprocess, 16.3ms inference, 6.6ms postprocess per image at shape (1, 3, 384, 640)\n",
      "\n",
      "image 1/1 /home/user/priyansh/yolo/captured_5_sec/frame_1160.jpg: 384x640 (no detections), 15.6ms\n",
      "Speed: 1.6ms preprocess, 15.6ms inference, 0.6ms postprocess per image at shape (1, 3, 384, 640)\n",
      "\n",
      "image 1/1 /home/user/priyansh/yolo/captured_5_sec/frame_1040.jpg: 384x640 2 persons, 2 motorcycles, 15.6ms\n",
      "Speed: 1.6ms preprocess, 15.6ms inference, 1.0ms postprocess per image at shape (1, 3, 384, 640)\n",
      "\n",
      "image 1/1 /home/user/priyansh/yolo/captured_5_sec/frame_840.jpg: 384x640 1 person, 2 cars, 1 motorcycle, 1 truck, 15.8ms\n",
      "Speed: 1.5ms preprocess, 15.8ms inference, 1.1ms postprocess per image at shape (1, 3, 384, 640)\n"
     ]
    },
    {
     "name": "stdout",
     "output_type": "stream",
     "text": [
      "4\n",
      "0\n",
      "4\n",
      "5\n"
     ]
    },
    {
     "name": "stderr",
     "output_type": "stream",
     "text": [
      "\n",
      "image 1/1 /home/user/priyansh/yolo/captured_5_sec/frame_1300.jpg: 384x640 1 car, 15.4ms\n",
      "Speed: 1.7ms preprocess, 15.4ms inference, 1.1ms postprocess per image at shape (1, 3, 384, 640)\n",
      "\n",
      "image 1/1 /home/user/priyansh/yolo/captured_5_sec/frame_410.jpg: 384x640 1 person, 1 car, 1 truck, 14.7ms\n",
      "Speed: 1.4ms preprocess, 14.7ms inference, 1.5ms postprocess per image at shape (1, 3, 384, 640)\n",
      "\n",
      "image 1/1 /home/user/priyansh/yolo/captured_5_sec/frame_1350.jpg: 384x640 (no detections), 21.1ms\n",
      "Speed: 1.5ms preprocess, 21.1ms inference, 1.0ms postprocess per image at shape (1, 3, 384, 640)\n"
     ]
    },
    {
     "name": "stdout",
     "output_type": "stream",
     "text": [
      "1\n",
      "3\n",
      "0\n"
     ]
    }
   ],
   "source": [
    "c = 0\n",
    "for i in os.listdir(directory_path):\n",
    "    results = model.predict(directory_path + i)\n",
    "    # Image = cv2.imread(directory_path + i)\n",
    "    # print(\"results:\",results)\n",
    "    result = results[0]\n",
    "    print(len(result.boxes))\n",
    "    if len(result.boxes) > 0:\n",
    "        box = result.boxes[0]\n",
    "        if box.cls[0].cpu().numpy() == 2.0:\n",
    "            coordinates = box.xyxy[0].cpu().numpy()\n",
    "            image = Image.open(directory_path + i)\n",
    "            x1, y1, x2, y2 = map(int, coordinates)\n",
    "            cropped_image = image.crop((x1, y1, x2, y2))\n",
    "            \n",
    "            cropped_image.save(f\"/home/user/priyansh/yolo/car/cars{c}_{box.conf[0].cpu().numpy()}.jpg\")\n",
    "        elif box.cls[0].cpu().numpy() == 3.0 or box.cls[0].cpu().numpy() == 0.0:\n",
    "            coordinates = box.xyxy[0].cpu().numpy()\n",
    "            image = Image.open(directory_path + i)\n",
    "            x1, y1, x2, y2 = map(int, coordinates)\n",
    "            cropped_image = image.crop((x1, y1, x2, y2))\n",
    "            \n",
    "            cropped_image.save(f\"/home/user/priyansh/yolo/bike/bikes{c}_{box.conf[0].cpu().numpy()}.jpg\")\n",
    "        elif box.cls[0].cpu().numpy() == 6.0:\n",
    "            coordinates = box.xyxy[0].cpu().numpy()\n",
    "            image = Image.open(directory_path + i)\n",
    "            x1, y1, x2, y2 = map(int, coordinates)\n",
    "            cropped_image = image.crop((x1, y1, x2, y2))\n",
    "            \n",
    "            cropped_image.save(f\"/home/user/priyansh/yolo/bus/buses{c}_{box.conf[0].cpu().numpy()}.jpg\")\n",
    "        elif box.cls[0].cpu().numpy() == 7.0:\n",
    "            coordinates = box.xyxy[0].cpu().numpy()\n",
    "            image = Image.open(directory_path + i)\n",
    "            x1, y1, x2, y2 = map(int, coordinates)\n",
    "            cropped_image = image.crop((x1, y1, x2, y2))\n",
    "            \n",
    "            cropped_image.save(f\"/home/user/priyansh/yolo/truck/trucks{c}_{box.conf[0].cpu().numpy()}.jpg\")\n",
    "            \n",
    "\n",
    "            \n",
    "        # #  print(\"Object type:\", box.cls[0].cpu().numpy())\n",
    "        # #  print(\"Coordinates:\", box.xyxy[0].cpu().numpy())\n",
    "        # #  print(\"Probability:\", box.conf[0].cpu().numpy())\n",
    "        \n",
    "    c = c + 1\n",
    "    \n",
    "\n",
    "    \n",
    "    "
   ]
  },
  {
   "cell_type": "markdown",
   "id": "053cc4c5-db62-43e7-93c4-4219461f3a36",
   "metadata": {},
   "source": [
    "names: {0: 'person', 1: 'bicycle', 2: 'car', 3: 'motorcycle', 4: 'airplane', 5: 'bus', 6: 'train', 7: 'truck', 8: 'boat', 9: 'traffic light', 10: 'fire hydrant', 11: 'stop sign', 12: 'parking meter', 13: 'bench', 14: 'bird', 15: 'cat', 16: 'dog', 17: 'horse', 18: 'sheep', 19: 'cow', 20: 'elephant', 21: 'bear', 22: 'zebra', 23: 'giraffe', 24: 'backpack', 25: 'umbrella', 26: 'handbag', 27: 'tie', 28: 'suitcase', 29: 'frisbee', 30: 'skis', 31: 'snowboard', 32: 'sports ball', 33: 'kite', 34: 'baseball bat', 35: 'baseball glove', 36: 'skateboard', 37: 'surfboard', 38: 'tennis racket', 39: 'bottle', 40: 'wine glass', 41: 'cup', 42: 'fork', 43: 'knife', 44: 'spoon', 45: 'bowl', 46: 'banana', 47: 'apple', 48: 'sandwich', 49: 'orange', 50: 'broccoli', 51: 'carrot', 52: 'hot dog', 53: 'pizza', 54: 'donut', 55: 'cake', 56: 'chair', 57: 'couch', 58: 'potted plant', 59: 'bed', 60: 'dining table', 61: 'toilet', 62: 'tv', 63: 'laptop', 64: 'mouse', 65: 'remote', 66: 'keyboard', 67: 'cell phone', 68: 'microwave', 69: 'oven', 70: 'toaster', 71: 'sink', 72: 'refrigerator', 73: 'book', 74: 'clock', 75: 'vase', 76: 'scissors', 77: 'teddy bear', 78: 'hair drier', 79: 'toothbrush'}"
   ]
  },
  {
   "cell_type": "code",
   "execution_count": null,
   "id": "88b71768-db74-4e80-90b5-5ab4a7ac7cad",
   "metadata": {},
   "outputs": [],
   "source": []
  },
  {
   "cell_type": "code",
   "execution_count": null,
   "id": "f93bbcda-1436-4ff2-b57d-06f50c96cc9a",
   "metadata": {},
   "outputs": [],
   "source": []
  },
  {
   "cell_type": "code",
   "execution_count": null,
   "id": "1babbaf1-7eee-4fc6-a49e-a86d22aef255",
   "metadata": {},
   "outputs": [],
   "source": []
  },
  {
   "cell_type": "code",
   "execution_count": null,
   "id": "8052a868-8860-4817-b90d-ac0198240cf0",
   "metadata": {},
   "outputs": [],
   "source": []
  },
  {
   "cell_type": "code",
   "execution_count": null,
   "id": "ce900e82-e40d-4f8f-8b5d-d2178e05a004",
   "metadata": {},
   "outputs": [],
   "source": []
  }
 ],
 "metadata": {
  "kernelspec": {
   "display_name": "Python 3 (ipykernel)",
   "language": "python",
   "name": "python3"
  },
  "language_info": {
   "codemirror_mode": {
    "name": "ipython",
    "version": 3
   },
   "file_extension": ".py",
   "mimetype": "text/x-python",
   "name": "python",
   "nbconvert_exporter": "python",
   "pygments_lexer": "ipython3",
   "version": "3.10.9"
  }
 },
 "nbformat": 4,
 "nbformat_minor": 5
}
